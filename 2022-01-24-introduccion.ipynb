{
 "cells": [
  {
   "cell_type": "markdown",
   "metadata": {},
   "source": [
    "Introducción a Python\n",
    "=====================\n",
    "\n",
    "**Date:** 2022-01-24\n",
    "\n"
   ]
  },
  {
   "cell_type": "markdown",
   "metadata": {},
   "source": [
    "## Introducción\n",
    "\n"
   ]
  },
  {
   "cell_type": "markdown",
   "metadata": {},
   "source": [
    "**Python** es uno de los principales lenguaje de programación, debido a que puede aplicarse en una multitud de tareas, incluyendo la didáctica y la investigación en matemáticas. El lenguaje es fácil de aprender y la sintaxis es sencilla. Puesto que es de código abierto, está disponible en prácticamente todos los sistemas operativos.\n",
    "\n",
    "Por otro lado, la facilidad de que Python esté presente en diversos sistemas, implica que no existe una manera única o correcta de trabajar en él.\n",
    "\n",
    "Hay varias maneras de editar y correr programas en Python. Una de ellas, muy popular recientemente, es usar el programa [Jupyter](https://jupyter.org/), el cual se puede instalar locamente en nuestros equipos, o bien en línea, por ejemplo en [Cocalc](https://cocalc.com/), en [Google Colab](https://colab.research.google.com/), o en [binder](https://mybinder.org/). También puede instalarse en un celular Android por medio de la aplicación [Termux](https://termux.com/).\n",
    "\n"
   ]
  },
  {
   "cell_type": "markdown",
   "metadata": {},
   "source": [
    "## Temario\n",
    "\n"
   ]
  },
  {
   "cell_type": "markdown",
   "metadata": {},
   "source": [
    "### Primera parte: El lenguaje de programación\n",
    "\n"
   ]
  },
  {
   "cell_type": "markdown",
   "metadata": {},
   "source": [
    "-   Instalación de Python. Herramientas en línea\n",
    "-   Estructuras de datos básicas: enteros, números flotantes, números complejos, cadenas, valores de verdad, listas, diccionarios, conjuntos.\n",
    "-   Control de flujo: `if`, `for`, etc.\n",
    "-   Funciones\n",
    "-   Errores y excepciones\n",
    "-   Clases\n",
    "-   Módulos\n",
    "\n"
   ]
  },
  {
   "cell_type": "markdown",
   "metadata": {},
   "source": [
    "### Segunda parte: Bibliotecas científicas\n",
    "\n"
   ]
  },
  {
   "cell_type": "markdown",
   "metadata": {},
   "source": [
    "-   **`sympy`:** Cálculo simbólico\n",
    "-   **`numpy`:** Cálculo numérico\n",
    "-   **`matplotlib`:** Gráficos científicos\n",
    "-   **`networkx`:** Gráficas (redes)\n",
    "\n"
   ]
  },
  {
   "cell_type": "markdown",
   "metadata": {},
   "source": [
    "### Tercera parte: Proyectos\n",
    "\n"
   ]
  },
  {
   "cell_type": "markdown",
   "metadata": {},
   "source": [
    "En esta parte expondremos herramientas para elaborar y compartir programas complejos.\n",
    "\n",
    "Pondremos especial atención a las \"buenas prácticas\", esto es, no nos preocuparemos solamente de que los programas corran, sino que además estén bien escritos, es decir, que:\n",
    "\n",
    "-   estén documentados\n",
    "-   tengan ejemplos de cómo deben correr\n",
    "-   estén divididos en funciones relativamente pequeñas\n",
    "-   se puedan extender con facilidad\n",
    "\n"
   ]
  },
  {
   "cell_type": "markdown",
   "metadata": {},
   "source": [
    "## Ejemplos\n",
    "\n"
   ]
  },
  {
   "cell_type": "markdown",
   "metadata": {},
   "source": [
    "### Sencillos\n",
    "\n"
   ]
  },
  {
   "cell_type": "code",
   "execution_count": null,
   "metadata": {},
   "outputs": [],
   "source": [
    "2+2"
   ]
  },
  {
   "cell_type": "code",
   "execution_count": null,
   "metadata": {},
   "outputs": [],
   "source": [
    "2**30"
   ]
  },
  {
   "cell_type": "code",
   "execution_count": null,
   "metadata": {},
   "outputs": [],
   "source": [
    "'hola' + 'mundo'"
   ]
  },
  {
   "cell_type": "code",
   "execution_count": null,
   "metadata": {},
   "outputs": [],
   "source": [
    "4*'hola '"
   ]
  },
  {
   "cell_type": "code",
   "execution_count": null,
   "metadata": {},
   "outputs": [],
   "source": [
    "13*'na '+'batman'"
   ]
  },
  {
   "cell_type": "code",
   "execution_count": null,
   "metadata": {},
   "outputs": [],
   "source": [
    "x = 5\n",
    "x ** 2"
   ]
  },
  {
   "cell_type": "code",
   "execution_count": null,
   "metadata": {},
   "outputs": [],
   "source": [
    "sqrt(8)"
   ]
  },
  {
   "cell_type": "code",
   "execution_count": null,
   "metadata": {},
   "outputs": [],
   "source": [
    "from math import sqrt\n",
    "\n",
    "sqrt(8)"
   ]
  },
  {
   "cell_type": "code",
   "execution_count": null,
   "metadata": {},
   "outputs": [],
   "source": [
    "from sympy import sqrt\n",
    "\n",
    "sqrt(8)"
   ]
  },
  {
   "cell_type": "markdown",
   "metadata": {},
   "source": [
    "### Más complicados\n",
    "\n"
   ]
  },
  {
   "cell_type": "code",
   "execution_count": null,
   "metadata": {},
   "outputs": [],
   "source": [
    "from sympy import symbols, diff, sin, exp, limit\n",
    "x=symbols('x')\n",
    "\n",
    "diff(exp(x)*sin(x), x)"
   ]
  },
  {
   "cell_type": "code",
   "execution_count": null,
   "metadata": {},
   "outputs": [],
   "source": [
    "limit(sin(x)/x, x, 0)"
   ]
  },
  {
   "cell_type": "code",
   "execution_count": null,
   "metadata": {},
   "outputs": [],
   "source": [
    "from sympy import latex, cos\n",
    "latex(exp(x)*sin(x) + exp(x)*cos(x))"
   ]
  },
  {
   "cell_type": "markdown",
   "metadata": {},
   "source": [
    "Esto se ve como: $e^{x} \\sin{\\left(x \\right)} + e^{x} \\cos{\\left(x \\right)}$.\n",
    "\n"
   ]
  },
  {
   "cell_type": "markdown",
   "metadata": {},
   "source": [
    "### Gráficos\n",
    "\n"
   ]
  },
  {
   "cell_type": "code",
   "execution_count": null,
   "metadata": {},
   "outputs": [],
   "source": [
    "import matplotlib.pyplot as plt\n",
    "import numpy as np\n",
    "\n",
    "t = np.arange(0.0, 2.0, 0.01)\n",
    "s = 1 + np.sin(2 * np.pi * t)\n",
    "\n",
    "fig, ax = plt.subplots(figsize=(6,4))\n",
    "\n",
    "ax.plot(t, s)\n",
    "\n",
    "# ax.set(xlabel='Tiempo (s)', ylabel='Voltaje (mV)', title='Una gráfica')\n",
    "# ax.grid()\n",
    "\n",
    "#fig.savefig(OUT, format = 'png', bbox_inches=\"tight\", pad_inches=0)\n",
    "plt.show()"
   ]
  },
  {
   "cell_type": "code",
   "execution_count": null,
   "metadata": {},
   "outputs": [],
   "source": [
    "import networkx as nx\n",
    "import matplotlib.pyplot as plt\n",
    "\n",
    "G = nx.Graph()\n",
    "G.add_edge(1, 2)\n",
    "G.add_edge(1, 3)\n",
    "G.add_edge(1, 5)\n",
    "G.add_edge(2, 3)\n",
    "G.add_edge(3, 4)\n",
    "G.add_edge(4, 5)\n",
    "\n",
    "# explicitly set positions\n",
    "pos = {1: (0, 0), 2: (-1, 0.3), 3: (2, 0.17), 4: (4, 0.255), 5: (5, 0.03)}\n",
    "\n",
    "options = {\n",
    "    \"font_size\": 36,\n",
    "    \"node_size\": 3000,\n",
    "    \"node_color\": \"green\",\n",
    "    \"edgecolors\": \"black\",\n",
    "    \"linewidths\": 5,\n",
    "    \"width\": 5,\n",
    "}\n",
    "\n",
    "fig, ax = plt.subplots(figsize=(6,6))\n",
    "\n",
    "nx.draw_networkx(G, pos, **options)"
   ]
  },
  {
   "cell_type": "markdown",
   "metadata": {},
   "source": [
    "## Instalación\n",
    "\n"
   ]
  },
  {
   "cell_type": "markdown",
   "metadata": {},
   "source": [
    "### Herramientas en línea\n",
    "\n"
   ]
  },
  {
   "cell_type": "markdown",
   "metadata": {},
   "source": [
    "## Recursos\n",
    "\n"
   ]
  },
  {
   "cell_type": "markdown",
   "metadata": {},
   "source": [
    "-   [Página de Python](https://www.python.org/)\n",
    "-   [El tutorial oficial de Python](https://docs.python.org/es/3/tutorial/)\n",
    "-   [El tutorial oficial en inglés](https://docs.python.org/3/tutorial/index.html)\n",
    "-   [sympy](https://www.sympy.org/en/index.html)\n",
    "-   [numpy](https://numpy.org/)\n",
    "-   [matplotlib](https://matplotlib.org/stable/index.html)\n",
    "-   [networkx](https://networkx.org/)\n",
    "\n",
    "-   [Anaconda Individual Edition](https://www.anaconda.com/products/individual) (Para instalar Python localmente)\n",
    "-   [Curso de Python en YouTube (Socratica)](https://www.youtube.com/watch?v=bY6m6_IIN94&list=PLi01XoE8jYohWFPpC17Z-wWhPOSuh8Er-&ab_channel=Socratica)\n",
    "-   [Real Python](https://realpython.com/)\n",
    "-   [Mi lista de cuentas relacionadas a Python en Twitter](https://twitter.com/i/lists/835236429173248002)\n",
    "\n"
   ]
  }
 ],
 "metadata": {
  "kernelspec": {
   "display_name": "Python 3",
   "language": "python",
   "name": "python3"
  },
  "language_info": {
   "codemirror_mode": {
    "name": "ipython",
    "version": 3
   },
   "file_extension": ".py",
   "mimetype": "text/x-python",
   "name": "python",
   "nbconvert_exporter": "python",
   "pygments_lexer": "ipython3",
   "version": "3.9.2"
  },
  "org": null
 },
 "nbformat": 4,
 "nbformat_minor": 1
}
