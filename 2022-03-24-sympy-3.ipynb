{
 "cells": [
  {
   "cell_type": "markdown",
   "metadata": {},
   "source": [
    "La biblioteca sympy 3\n",
    "=====================\n",
    "\n",
    "**Date:** 2022-03-24\n",
    "\n"
   ]
  },
  {
   "cell_type": "markdown",
   "metadata": {},
   "source": [
    "## Solución a un sistema de ecuaciones diferenciales\n",
    "\n"
   ]
  },
  {
   "cell_type": "code",
   "execution_count": 1,
   "metadata": {},
   "outputs": [],
   "source": [
    "from sympy import symbols, Function, Eq, Derivative, dsolve, solve\n",
    "\n",
    "def sistema(matriz):\n",
    "    \"\"\"Dada un lista de listas, regresa un sistema de ecuaciones diferenciales.\"\"\"\n",
    "    t = symbols('t')\n",
    "    x, y = symbols('x y', cls=Function)\n",
    "    eq1 = Eq(Derivative(x(t), t), matriz[0][0]*x(t) + matriz[0][1]*y(t))\n",
    "    eq2 = Eq(Derivative(y(t), t), matriz[1][0]*x(t) + matriz[1][1]*y(t))\n",
    "    sols = dsolve((eq1, eq2))\n",
    "    return sols[0].rhs, sols[1].rhs\n",
    "\n",
    "def sistema_lineal(matriz, cond_inic):\n",
    "    \"\"\"Dado un sistema de ecuaciones diferenciales, regresa el sistema lineal en t=0.\"\"\"\n",
    "    t = symbols('t')\n",
    "    x, y = symbols('x y', cls=Function)\n",
    "    sols = sistema(matriz)\n",
    "\n",
    "    lineal1 = Eq(sols[0].subs({t:0}), cond_inic[0])\n",
    "    lineal2 = Eq(sols[1].subs({t:0}), cond_inic[1])\n",
    "    return lineal1, lineal2\n",
    "\n",
    "def sistema_ed(matriz, cond_inic):\n",
    "    \"\"\"Dada una matriz y condiciones iniciales, regresa la solución del sistema de ed.\"\"\"\n",
    "    t = symbols('t')\n",
    "    x, y = symbols('x y', cls=Function)\n",
    "    C1, C2 = symbols('C1 C2')\n",
    "    sis_ed = sistema(matriz)\n",
    "    sis_lin = sistema_lineal(matriz, cond_inic)\n",
    "    dict_sols = solve(sis_lin)\n",
    "    expr1 = sis_ed[0].subs(dict_sols)\n",
    "    expr2 = sis_ed[1].subs(dict_sols)\n",
    "    return expr1, expr2\n",
    "    \n",
    "sols = sistema_ed(([[0, 1], [-1, 0]]), [1, -2])\n",
    "sols"
   ]
  },
  {
   "cell_type": "markdown",
   "metadata": {},
   "source": [
    "## Funciones paramétricas\n",
    "\n"
   ]
  },
  {
   "cell_type": "code",
   "execution_count": 1,
   "metadata": {},
   "outputs": [],
   "source": [
    "from sympy import plot_parametric\n",
    "t = symbols('t')\n",
    "\n",
    "sols2 = sistema_ed(([[0, 1], [-1, 0]]), [3, 3])\n",
    "\n",
    "plot_parametric(sols, sols2, (t, 0, 10))"
   ]
  },
  {
   "cell_type": "markdown",
   "metadata": {},
   "source": [
    "## Gráficas en 3D\n",
    "\n"
   ]
  },
  {
   "cell_type": "code",
   "execution_count": 1,
   "metadata": {},
   "outputs": [],
   "source": [
    "from sympy import symbols\n",
    "from sympy.plotting import plot3d\n",
    "x, y = symbols('x y')\n",
    "\n",
    "plot3d(4*x**2+y**2, (x, -5, 5), (y, -5, 5))"
   ]
  },
  {
   "cell_type": "code",
   "execution_count": 1,
   "metadata": {},
   "outputs": [],
   "source": [
    "from sympy import sin\n",
    "\n",
    "plot3d(sin(x)+sin(y))"
   ]
  },
  {
   "cell_type": "markdown",
   "metadata": {},
   "source": [
    "### Curvas paramétricas en 3D\n",
    "\n"
   ]
  },
  {
   "cell_type": "code",
   "execution_count": 1,
   "metadata": {},
   "outputs": [],
   "source": [
    "from sympy import cos\n",
    "from sympy.plotting import plot3d_parametric_line\n",
    "\n",
    "plot3d_parametric_line(cos(t), sin(t), t, (t, 0, 20))"
   ]
  },
  {
   "cell_type": "markdown",
   "metadata": {},
   "source": [
    "### Superficies paramétricas en 3D\n",
    "\n"
   ]
  },
  {
   "cell_type": "code",
   "execution_count": 1,
   "metadata": {},
   "outputs": [],
   "source": [
    "from sympy import pi\n",
    "from sympy.plotting import plot3d_parametric_surface\n",
    "u, v = symbols('u v')\n",
    "\n",
    "plot3d_parametric_surface((2+sin(v))*cos(u), (2+sin(v))*sin(u), u+cos(v), (u, 0, 4*pi), (v, 0, 2*pi))"
   ]
  },
  {
   "cell_type": "code",
   "execution_count": 1,
   "metadata": {},
   "outputs": [],
   "source": [
    "plot3d_parametric_surface(u**2, v**2, u+v, (u, -1, 1), (v, -1, 1))"
   ]
  },
  {
   "cell_type": "markdown",
   "metadata": {},
   "source": [
    "## Varios gráficas juntas\n",
    "\n"
   ]
  },
  {
   "cell_type": "code",
   "execution_count": 1,
   "metadata": {},
   "outputs": [],
   "source": [
    "from sympy.plotting import PlotGrid\n",
    "\n",
    "p1 = plot3d(sin(x)+sin(y), title = \"3D\", show=False)\n",
    "p2 = plot3d_parametric_line(cos(t), sin(t), t, (t, 0, 20), title=\"Paramétrica\", show=False)\n",
    "p3 = plot3d_parametric_surface((2+sin(v))*cos(u), (2+sin(v))*sin(u), u+cos(v), (u, 0, 4*pi), (v, 0, 2*pi), show=False)\n",
    "p4 = plot3d_parametric_surface(u**2, v**2, u+v, (u, -1, 1), (v, -1, 1), show=False)\n",
    "\n",
    "PlotGrid(2, 2, p1, p2 ,p3, p4)"
   ]
  },
  {
   "cell_type": "markdown",
   "metadata": {},
   "source": [
    "## Permutaciones\n",
    "\n"
   ]
  },
  {
   "cell_type": "markdown",
   "metadata": {},
   "source": [
    "Una permutación de $X_{n}=\\{0,1,2,\\ldots, n-1\\}$ se puede ver como una función biyectiva $X\\to X$. La regla de correspondencia de una tal función $f$ se puede dar como una lista con $[f(0), f(1),\\ldots, f(n-1)]$, usando el comando `Permutation`.\n",
    "\n"
   ]
  },
  {
   "cell_type": "code",
   "execution_count": 1,
   "metadata": {},
   "outputs": [],
   "source": [
    "from sympy import init_printing\n",
    "init_printing(use_latex=False, use_unicode=False)"
   ]
  },
  {
   "cell_type": "markdown",
   "metadata": {},
   "source": [
    "Por ejemplo, sea $f$ la permutación de $X_{3}$ tal que $f(0)=0$, $f(1)=2$ y $f(2)=1$. Tenemos que `sympy` la escribe en *notación cíclica*.\n",
    "\n"
   ]
  },
  {
   "cell_type": "code",
   "execution_count": 1,
   "metadata": {},
   "outputs": [],
   "source": [
    "from sympy.combinatorics import Permutation\n",
    "\n",
    "p = Permutation([0, 2, 1])\n",
    "p"
   ]
  },
  {
   "cell_type": "markdown",
   "metadata": {},
   "source": [
    "Otro ejemplo\n",
    "\n"
   ]
  },
  {
   "cell_type": "code",
   "execution_count": 1,
   "metadata": {},
   "outputs": [],
   "source": [
    "q = Permutation([1,0,3,2])\n",
    "q"
   ]
  },
  {
   "cell_type": "markdown",
   "metadata": {},
   "source": [
    "Las permutaciones se pueden evaluar como si fueran funciones, pero también usando `^`:\n",
    "\n"
   ]
  },
  {
   "cell_type": "code",
   "execution_count": 1,
   "metadata": {},
   "outputs": [],
   "source": [
    "q(0), q(1), 2^q"
   ]
  },
  {
   "cell_type": "markdown",
   "metadata": {},
   "source": [
    "Las permutaciones se pueden multiplicar, lo cual corresponde a la composición de funciones. Sin embargo, el orden de composición es diferente al que usamos en matemáticas. Es decir, `p*q` significa primero aplicar `p` y luego `q`.\n",
    "\n"
   ]
  },
  {
   "cell_type": "code",
   "execution_count": 1,
   "metadata": {},
   "outputs": [],
   "source": [
    "p, q, p*q"
   ]
  },
  {
   "cell_type": "markdown",
   "metadata": {},
   "source": [
    "Usando la notación cíclica, no es necesario escribir los puntos fijos de una permutación de $X_{n}$. Por ejemplo:\n",
    "\n"
   ]
  },
  {
   "cell_type": "code",
   "execution_count": 1,
   "metadata": {},
   "outputs": [],
   "source": [
    "s = Permutation(3, 5)\n",
    "s(0), s(1), s(3)"
   ]
  },
  {
   "cell_type": "markdown",
   "metadata": {},
   "source": [
    "## Grupo de permutaciones\n",
    "\n"
   ]
  },
  {
   "cell_type": "markdown",
   "metadata": {},
   "source": [
    "Se usa el comando `PermutationGroup` para obtener el grupo generado por un conjunto de transposiciones.\n",
    "\n"
   ]
  },
  {
   "cell_type": "code",
   "execution_count": 1,
   "metadata": {},
   "outputs": [],
   "source": [
    "from sympy.combinatorics import PermutationGroup\n",
    "\n",
    "g = PermutationGroup(p, q)\n",
    "g"
   ]
  },
  {
   "cell_type": "code",
   "execution_count": 1,
   "metadata": {},
   "outputs": [],
   "source": [
    "g.order(), g.elements"
   ]
  },
  {
   "cell_type": "markdown",
   "metadata": {},
   "source": [
    "Por ejemplo, el grupo de permutaciones rígidas de un polígono regular de $n$ lados está generado por una rotación y una reflexión.\n",
    "\n"
   ]
  },
  {
   "cell_type": "code",
   "execution_count": 1,
   "metadata": {},
   "outputs": [],
   "source": [
    "rot = Permutation(1, 2, 3, 4, 5)\n",
    "ref = Permutation(2, 5)(3, 4)\n",
    "d5 = PermutationGroup(rot, ref)\n",
    "d5.order(), d5.elements"
   ]
  }
 ],
 "metadata": {
  "kernelspec": {
   "display_name": "Python 3",
   "language": "python",
   "name": "python3"
  },
  "language_info": {
   "codemirror_mode": {
    "name": "ipython",
    "version": 3
   },
   "file_extension": ".py",
   "mimetype": "text/x-python",
   "name": "python",
   "nbconvert_exporter": "python",
   "pygments_lexer": "ipython3",
   "version": "3.9.2"
  },
  "org": null
 },
 "nbformat": 4,
 "nbformat_minor": 1
}
