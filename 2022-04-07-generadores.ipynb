{
 "cells": [
  {
   "cell_type": "markdown",
   "metadata": {},
   "source": [
    "Generadores\n",
    "===========\n",
    "\n",
    "**Date:** 2022-04-07\n",
    "\n"
   ]
  },
  {
   "cell_type": "markdown",
   "metadata": {},
   "source": [
    "## Ejemplo\n",
    "\n"
   ]
  },
  {
   "cell_type": "code",
   "execution_count": 1,
   "metadata": {},
   "outputs": [],
   "source": [
    "import networkx as nx\n",
    "g = nx.path_graph(5)\n",
    "nx.draw(g, with_labels=True)"
   ]
  },
  {
   "cell_type": "code",
   "execution_count": 1,
   "metadata": {},
   "outputs": [],
   "source": [
    "clanes = nx.find_cliques(g)\n",
    "clanes"
   ]
  },
  {
   "cell_type": "code",
   "execution_count": 1,
   "metadata": {},
   "outputs": [],
   "source": [
    "next(clanes)"
   ]
  },
  {
   "cell_type": "markdown",
   "metadata": {},
   "source": [
    "Cuando un generador se termina, ejecutar `next` produce la excepción `StopIteration`. Podemos entonces enlistar los clanes de la siguiente manera:\n",
    "\n"
   ]
  },
  {
   "cell_type": "code",
   "execution_count": 1,
   "metadata": {},
   "outputs": [],
   "source": [
    "clanes = nx.find_cliques(g)\n",
    "\n",
    "while True:\n",
    "    try:\n",
    "        clan = next(clanes)\n",
    "        print(clan)\n",
    "    except:\n",
    "        StopIteration\n",
    "        break"
   ]
  },
  {
   "cell_type": "markdown",
   "metadata": {},
   "source": [
    "## Problema\n",
    "\n"
   ]
  },
  {
   "cell_type": "markdown",
   "metadata": {},
   "source": [
    "Supongamos que queremos determinar si una gráfica muy grande tiene al menos un clan de tamaño al menos 10. (Con 1000 vértices se puede esperar un dibujo, con 10000 vértices ya toma demasiado tiempo)\n",
    "\n"
   ]
  },
  {
   "cell_type": "code",
   "execution_count": 1,
   "metadata": {},
   "outputs": [],
   "source": [
    "import networkx as nx\n",
    "\n",
    "g = nx.gnp_random_graph(1000, 0.05)\n",
    "nx.draw(g, node_size=1)"
   ]
  },
  {
   "cell_type": "code",
   "execution_count": 1,
   "metadata": {},
   "outputs": [],
   "source": [
    "clanes = nx.find_cliques(g)\n",
    "clanes"
   ]
  },
  {
   "cell_type": "code",
   "execution_count": 1,
   "metadata": {},
   "outputs": [],
   "source": [
    "next(clanes)"
   ]
  },
  {
   "cell_type": "code",
   "execution_count": 1,
   "metadata": {},
   "outputs": [],
   "source": [
    "len(list(clanes))"
   ]
  },
  {
   "cell_type": "code",
   "execution_count": 1,
   "metadata": {},
   "outputs": [],
   "source": [
    "b = 5\n",
    "\n",
    "for q in clanes:\n",
    "    if len(q) >= b:\n",
    "        print(f\"El clan {q} tiene al menos {b} vértices\")"
   ]
  },
  {
   "cell_type": "code",
   "execution_count": 1,
   "metadata": {},
   "outputs": [],
   "source": [
    "b = 5\n",
    "\n",
    "for q in clanes:\n",
    "    if len(q) >= b:\n",
    "        print(f\"El clan {q} tiene al menos {b} vértices\")\n",
    "        break # Si encuentra el clan, 'break' interrumpe el ciclo 'for'\n",
    "else: # una cláusula 'else' en un ciclo 'for' se ejecuta si el ciclo se agotó\n",
    "    print(\"No encontré tal clan.\")"
   ]
  }
 ],
 "metadata": {
  "kernelspec": {
   "display_name": "Python 3",
   "language": "python",
   "name": "python3"
  },
  "language_info": {
   "codemirror_mode": {
    "name": "ipython",
    "version": 3
   },
   "file_extension": ".py",
   "mimetype": "text/x-python",
   "name": "python",
   "nbconvert_exporter": "python",
   "pygments_lexer": "ipython3",
   "version": "3.9.2"
  },
  "org": null
 },
 "nbformat": 4,
 "nbformat_minor": 1
}
